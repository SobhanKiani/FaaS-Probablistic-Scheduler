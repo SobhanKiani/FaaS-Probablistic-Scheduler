{
 "cells": [
  {
   "cell_type": "code",
   "execution_count": 7,
   "metadata": {},
   "outputs": [],
   "source": [
    "import networkx as nx\n",
    "import numpy as np\n",
    "import pandas as pd\n",
    "import matplotlib.pyplot as plt\n",
    "from queue import Queue\n",
    "import random"
   ]
  },
  {
   "cell_type": "code",
   "execution_count": 2,
   "metadata": {},
   "outputs": [],
   "source": [
    "def create_dag(max_level=10, max_children=10, max_number_nodes=10, having_childs_prob=2):\n",
    "    q = Queue()\n",
    "    last_node = 0\n",
    "    G = nx.Graph()\n",
    "    G.add_node(0)\n",
    "    q.put((0, 0))\n",
    "\n",
    "    weights = [1/n for n in range(1, max_children+1)]\n",
    "\n",
    "    while not q.empty():\n",
    "        node, level = q.get()\n",
    "\n",
    "        if not level == max_level and last_node <= max_number_nodes:\n",
    "            has_childs = random.randint(1, having_childs_prob)\n",
    "\n",
    "            if node == 0 or has_childs != 1:\n",
    "                \n",
    "                n_childs = random.choices(range(1, max_children + 1))[0]\n",
    "\n",
    "                for c in range(n_childs):\n",
    "                    # Nodes start from 0\n",
    "                    if last_node == max_number_nodes - 1:\n",
    "                        break\n",
    "\n",
    "                    last_node += 1\n",
    "                    G.add_node(last_node)\n",
    "                    G.add_edge(node, last_node)\n",
    "                    q.put((last_node, level + 1))\n",
    "\n",
    "    return G"
   ]
  },
  {
   "cell_type": "code",
   "execution_count": 3,
   "metadata": {},
   "outputs": [],
   "source": [
    "def create_dag_levelist(max_level=10, max_level_nodes=10 , max_number_nodes=10, having_childs_prob=2):\n",
    "    q = Queue()\n",
    "    last_node = 0\n",
    "    last_level = 0\n",
    "    nodes = [[0]]\n",
    "\n",
    "    G = nx.DiGraph()\n",
    "    G.add_node(0)\n",
    "\n",
    "    q.put((last_node, last_level))\n",
    "\n",
    "    while not q.empty():\n",
    "        node, level = q.get()\n",
    "\n",
    "        # Adding nodes to the new level\n",
    "        if last_level == level and last_level < max_level:\n",
    "            last_level += 1\n",
    "            n_new_level_nodes = random.randint(1, max_level_nodes)\n",
    "            new_level_nodes = []\n",
    "\n",
    "            for i in range(0, n_new_level_nodes - 1 ):\n",
    "                if last_node >= max_number_nodes:\n",
    "                    break\n",
    "\n",
    "                last_node += 1\n",
    "                G.add_node(last_node)\n",
    "                q.put((last_node, last_level))\n",
    "                new_level_nodes.append(last_node)\n",
    "            \n",
    "            nodes.append(new_level_nodes)\n",
    "\n",
    "        # Add edges if the current node has node incoming edges\n",
    "        if node != 0 and G.in_degree(node) == 0:\n",
    "            previous_level_nodes = nodes[level-1]\n",
    "            n_parents = random.randint(1, previous_level_nodes.__len__())\n",
    "            parent = random.sample(previous_level_nodes, n_parents)\n",
    "\n",
    "            for p in parent:\n",
    "                G.add_edge(p, node)\n",
    "\n",
    "\n",
    "        # Adding edges for the current node\n",
    "        if level < last_level:\n",
    "            next_level_nodes = nodes[level+1]\n",
    "            has_child = random.randint(1, having_childs_prob)\n",
    "            if node == 0 and (next_level_nodes.__len__() > 0) or (has_child != 1 and next_level_nodes.__len__() > 0):\n",
    "                # weights = [1/n for n in range(1, next_level_nodes.__le__())]\n",
    "                # n_childs = random.choices(1, next_level_nodes.__len__(), weights=weights)[0]\n",
    "                n_childs = random.randint(1, next_level_nodes.__len__())\n",
    "                children = random.sample(next_level_nodes, n_childs)\n",
    "\n",
    "                for child in children:\n",
    "                    G.add_edge(node, child)\n",
    "\n",
    "    return G\n"
   ]
  },
  {
   "cell_type": "code",
   "execution_count": 4,
   "metadata": {},
   "outputs": [],
   "source": [
    "def adj_matrix(g:nx.Graph):\n",
    "    n_nodes = g.number_of_nodes()\n",
    "    adj = np.full((n_nodes, n_nodes), -1)\n",
    "    nodes = g.nodes\n",
    "    \n",
    "    for node in nodes:\n",
    "        edges = g.edges(node)\n",
    "        for u, v  in edges:\n",
    "            adj[u, v] = 0\n",
    "\n",
    "    return adj\n"
   ]
  },
  {
   "cell_type": "code",
   "execution_count": 17,
   "metadata": {},
   "outputs": [
    {
     "data": {
      "text/plain": [
       "(13, 17)"
      ]
     },
     "execution_count": 17,
     "metadata": {},
     "output_type": "execute_result"
    }
   ],
   "source": [
    "# g = create_dag(max_level=5, max_children=5, max_number_nodes=16, having_childs_prob=4)\n",
    "g = create_dag_levelist(max_level=5, max_level_nodes=7, max_number_nodes=30, having_childs_prob=3)\n",
    "g.number_of_nodes(), g.number_of_edges()"
   ]
  },
  {
   "cell_type": "code",
   "execution_count": 18,
   "metadata": {},
   "outputs": [
    {
     "data": {
      "text/plain": [
       "OutEdgeView([(0, 1), (0, 3), (0, 2), (1, 4), (1, 5), (1, 8), (1, 6), (1, 7), (3, 6), (3, 4), (3, 5), (4, 12), (4, 9), (4, 11), (4, 10), (6, 12), (6, 10)])"
      ]
     },
     "execution_count": 18,
     "metadata": {},
     "output_type": "execute_result"
    }
   ],
   "source": [
    "g.edges"
   ]
  },
  {
   "cell_type": "code",
   "execution_count": 11,
   "metadata": {},
   "outputs": [
    {
     "data": {
      "text/plain": [
       "array([[-1,  0,  0, -1, -1, -1, -1, -1, -1, -1, -1, -1, -1, -1, -1],\n",
       "       [-1, -1, -1,  0,  0, -1, -1, -1, -1, -1, -1, -1, -1, -1, -1],\n",
       "       [-1, -1, -1, -1,  0, -1, -1, -1, -1, -1, -1, -1, -1, -1, -1],\n",
       "       [-1, -1, -1, -1, -1, -1, -1, -1, -1, -1, -1, -1, -1, -1, -1],\n",
       "       [-1, -1, -1, -1, -1,  0,  0,  0, -1, -1, -1, -1, -1, -1, -1],\n",
       "       [-1, -1, -1, -1, -1, -1, -1, -1,  0,  0, -1, -1, -1, -1, -1],\n",
       "       [-1, -1, -1, -1, -1, -1, -1, -1, -1,  0, -1, -1, -1, -1, -1],\n",
       "       [-1, -1, -1, -1, -1, -1, -1, -1,  0, -1, -1, -1, -1, -1, -1],\n",
       "       [-1, -1, -1, -1, -1, -1, -1, -1, -1, -1, -1,  0,  0,  0, -1],\n",
       "       [-1, -1, -1, -1, -1, -1, -1, -1, -1, -1,  0,  0,  0,  0,  0],\n",
       "       [-1, -1, -1, -1, -1, -1, -1, -1, -1, -1, -1, -1, -1, -1, -1],\n",
       "       [-1, -1, -1, -1, -1, -1, -1, -1, -1, -1, -1, -1, -1, -1, -1],\n",
       "       [-1, -1, -1, -1, -1, -1, -1, -1, -1, -1, -1, -1, -1, -1, -1],\n",
       "       [-1, -1, -1, -1, -1, -1, -1, -1, -1, -1, -1, -1, -1, -1, -1],\n",
       "       [-1, -1, -1, -1, -1, -1, -1, -1, -1, -1, -1, -1, -1, -1, -1]])"
      ]
     },
     "execution_count": 11,
     "metadata": {},
     "output_type": "execute_result"
    }
   ],
   "source": [
    "adj_matrix(g)"
   ]
  },
  {
   "cell_type": "code",
   "execution_count": 65,
   "metadata": {},
   "outputs": [],
   "source": [
    "# def set_random_weigts(total_weight, adj:list):\n",
    "#     adj = np.array(adj)\n",
    "#     num_nodes = adj.shape[0]\n",
    "    \n",
    "#     for i in range(num_nodes):\n",
    "        \n",
    "#         if i == 0:\n",
    "#             incoming_weight = total_weight\n",
    "#         else:\n",
    "#             incoming_weight = 0\n",
    "#             for k in range(num_nodes):\n",
    "#                 if adj[k, i] != -1:\n",
    "#                     print(k, i, adj[k, i])\n",
    "#                     incoming_weight += adj[k, i]\n",
    "#             # incoming_weight = np.sum([adj[k, i] for k in range(num_nodes) if adj[k, i] != -1 ])    \n",
    "#         print(incoming_weight)\n",
    "            \n",
    "#         if incoming_weight > 0:\n",
    "#             remaining_weight = incoming_weight\n",
    "            \n",
    "#             children = [j for j in range(num_nodes) if adj[i, j] != -1]\n",
    "            \n",
    "#             n_children = children.__len__()\n",
    "            \n",
    "#             for c in range(n_children):\n",
    "#                 if c != n_children - 1: \n",
    "#                     weight = random.randint(1, remaining_weight - (n_children - c))\n",
    "#                 else:\n",
    "#                     weight = remaining_weight\n",
    "#                 remaining_weight -= weight\n",
    "                \n",
    "#                 adj[i, c] = weight\n",
    "#     return adj\n",
    "                "
   ]
  },
  {
   "cell_type": "code",
   "execution_count": 66,
   "metadata": {},
   "outputs": [],
   "source": [
    "adj = [\n",
    "    [-1, 0, 0, -1, -1, -1, -1, -1, -1, -1, -1, -1, -1, -1, -1],\n",
    "    [-1, -1, -1, 0, 0, -1, -1, -1, -1, -1, -1, -1, -1, -1, -1],\n",
    "    [-1, -1, -1, -1, 0, -1, -1, -1, -1, -1, -1, -1, -1, -1, -1],\n",
    "    [-1, -1, -1, -1, -1, -1, -1, -1, -1, -1, -1, -1, -1, -1, -1],\n",
    "    [-1, -1, -1, -1, -1, 0, 0, 0, -1, -1, -1, -1, -1, -1, -1],\n",
    "    [-1, -1, -1, -1, -1, -1, -1, -1, 0, 0, -1, -1, -1, -1, -1],\n",
    "    [-1, -1, -1, -1, -1, -1, -1, -1, -1, 0, -1, -1, -1, -1, -1],\n",
    "    [-1, -1, -1, -1, -1, -1, -1, -1, 0, -1, -1, -1, -1, -1, -1],\n",
    "    [-1, -1, -1, -1, -1, -1, -1, -1, -1, -1, -1, 0, 0, 0, -1],\n",
    "    [-1, -1, -1, -1, -1, -1, -1, -1, -1, -1, 0, 0, 0, 0, 0],\n",
    "    [-1, -1, -1, -1, -1, -1, -1, -1, -1, -1, -1, -1, -1, -1, -1],\n",
    "    [-1, -1, -1, -1, -1, -1, -1, -1, -1, -1, -1, -1, -1, -1, -1],\n",
    "    [-1, -1, -1, -1, -1, -1, -1, -1, -1, -1, -1, -1, -1, -1, -1],\n",
    "    [-1, -1, -1, -1, -1, -1, -1, -1, -1, -1, -1, -1, -1, -1, -1],\n",
    "    [-1, -1, -1, -1, -1, -1, -1, -1, -1, -1, -1, -1, -1, -1, -1],\n",
    "\n",
    "]"
   ]
  },
  {
   "cell_type": "code",
   "execution_count": 67,
   "metadata": {},
   "outputs": [
    {
     "name": "stdout",
     "output_type": "stream",
     "text": [
      "1000\n",
      "0 1 896\n",
      "896\n",
      "0 2 0\n",
      "0\n",
      "1 3 0\n",
      "0\n",
      "1 4 0\n",
      "2 4 0\n",
      "0\n",
      "4 5 0\n",
      "0\n",
      "4 6 0\n",
      "0\n",
      "4 7 0\n",
      "0\n",
      "5 8 0\n",
      "7 8 0\n",
      "0\n",
      "5 9 0\n",
      "6 9 0\n",
      "0\n",
      "9 10 0\n",
      "0\n",
      "8 11 0\n",
      "9 11 0\n",
      "0\n",
      "8 12 0\n",
      "9 12 0\n",
      "0\n",
      "8 13 0\n",
      "9 13 0\n",
      "0\n",
      "9 14 0\n",
      "0\n"
     ]
    },
    {
     "data": {
      "text/plain": [
       "array([[104, 896,   0,  -1,  -1,  -1,  -1,  -1,  -1,  -1,  -1,  -1,  -1,\n",
       "         -1,  -1],\n",
       "       [433, 463,  -1,   0,   0,  -1,  -1,  -1,  -1,  -1,  -1,  -1,  -1,\n",
       "         -1,  -1],\n",
       "       [ -1,  -1,  -1,  -1,   0,  -1,  -1,  -1,  -1,  -1,  -1,  -1,  -1,\n",
       "         -1,  -1],\n",
       "       [ -1,  -1,  -1,  -1,  -1,  -1,  -1,  -1,  -1,  -1,  -1,  -1,  -1,\n",
       "         -1,  -1],\n",
       "       [ -1,  -1,  -1,  -1,  -1,   0,   0,   0,  -1,  -1,  -1,  -1,  -1,\n",
       "         -1,  -1],\n",
       "       [ -1,  -1,  -1,  -1,  -1,  -1,  -1,  -1,   0,   0,  -1,  -1,  -1,\n",
       "         -1,  -1],\n",
       "       [ -1,  -1,  -1,  -1,  -1,  -1,  -1,  -1,  -1,   0,  -1,  -1,  -1,\n",
       "         -1,  -1],\n",
       "       [ -1,  -1,  -1,  -1,  -1,  -1,  -1,  -1,   0,  -1,  -1,  -1,  -1,\n",
       "         -1,  -1],\n",
       "       [ -1,  -1,  -1,  -1,  -1,  -1,  -1,  -1,  -1,  -1,  -1,   0,   0,\n",
       "          0,  -1],\n",
       "       [ -1,  -1,  -1,  -1,  -1,  -1,  -1,  -1,  -1,  -1,   0,   0,   0,\n",
       "          0,   0],\n",
       "       [ -1,  -1,  -1,  -1,  -1,  -1,  -1,  -1,  -1,  -1,  -1,  -1,  -1,\n",
       "         -1,  -1],\n",
       "       [ -1,  -1,  -1,  -1,  -1,  -1,  -1,  -1,  -1,  -1,  -1,  -1,  -1,\n",
       "         -1,  -1],\n",
       "       [ -1,  -1,  -1,  -1,  -1,  -1,  -1,  -1,  -1,  -1,  -1,  -1,  -1,\n",
       "         -1,  -1],\n",
       "       [ -1,  -1,  -1,  -1,  -1,  -1,  -1,  -1,  -1,  -1,  -1,  -1,  -1,\n",
       "         -1,  -1],\n",
       "       [ -1,  -1,  -1,  -1,  -1,  -1,  -1,  -1,  -1,  -1,  -1,  -1,  -1,\n",
       "         -1,  -1]])"
      ]
     },
     "execution_count": 67,
     "metadata": {},
     "output_type": "execute_result"
    }
   ],
   "source": [
    "set_random_weigts(1000, adj)"
   ]
  },
  {
   "cell_type": "code",
   "execution_count": null,
   "metadata": {},
   "outputs": [],
   "source": []
  },
  {
   "cell_type": "code",
   "execution_count": null,
   "metadata": {},
   "outputs": [],
   "source": []
  },
  {
   "cell_type": "code",
   "execution_count": null,
   "metadata": {},
   "outputs": [],
   "source": [
    "adj = [\n",
    "    [-1, 0, 0, -1, -1, -1, -1, -1, -1, -1, -1, -1, -1, -1, -1],\n",
    "    [-1, -1, -1, 0, 0, -1, -1, -1, -1, -1, -1, -1, -1, -1, -1],\n",
    "    [-1, -1, -1, -1, 0, -1, -1, -1, -1, -1, -1, -1, -1, -1, -1],\n",
    "    [-1, -1, -1, -1, -1, -1, -1, -1, -1, -1, -1, -1, -1, -1, -1],\n",
    "    [-1, -1, -1, -1, -1, 0, 0, 0, -1, -1, -1, -1, -1, -1, -1],\n",
    "    [-1, -1, -1, -1, -1, -1, -1, -1, 0, 0, -1, -1, -1, -1, -1],\n",
    "    [-1, -1, -1, -1, -1, -1, -1, -1, -1, 0, -1, -1, -1, -1, -1],\n",
    "    [-1, -1, -1, -1, -1, -1, -1, -1, 0, -1, -1, -1, -1, -1, -1],\n",
    "    [-1, -1, -1, -1, -1, -1, -1, -1, -1, -1, -1, 0, 0, 0, -1],\n",
    "    [-1, -1, -1, -1, -1, -1, -1, -1, -1, -1, 0, 0, 0, 0, 0],\n",
    "    [-1, -1, -1, -1, -1, -1, -1, -1, -1, -1, -1, -1, -1, -1, -1],\n",
    "    [-1, -1, -1, -1, -1, -1, -1, -1, -1, -1, -1, -1, -1, -1, -1],\n",
    "    [-1, -1, -1, -1, -1, -1, -1, -1, -1, -1, -1, -1, -1, -1, -1],\n",
    "    [-1, -1, -1, -1, -1, -1, -1, -1, -1, -1, -1, -1, -1, -1, -1],\n",
    "    [-1, -1, -1, -1, -1, -1, -1, -1, -1, -1, -1, -1, -1, -1, -1],\n",
    "\n",
    "]"
   ]
  }
 ],
 "metadata": {
  "kernelspec": {
   "display_name": "base",
   "language": "python",
   "name": "python3"
  },
  "language_info": {
   "codemirror_mode": {
    "name": "ipython",
    "version": 3
   },
   "file_extension": ".py",
   "mimetype": "text/x-python",
   "name": "python",
   "nbconvert_exporter": "python",
   "pygments_lexer": "ipython3",
   "version": "3.9.12"
  },
  "orig_nbformat": 4
 },
 "nbformat": 4,
 "nbformat_minor": 2
}
