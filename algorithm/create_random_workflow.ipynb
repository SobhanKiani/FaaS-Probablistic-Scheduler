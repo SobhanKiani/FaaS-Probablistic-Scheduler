{
 "cells": [
  {
   "cell_type": "code",
   "execution_count": 1,
   "metadata": {},
   "outputs": [],
   "source": [
    "import networkx as nx\n",
    "import numpy as np\n",
    "import pandas as pd\n",
    "import matplotlib.pyplot as plt\n",
    "from queue import Queue\n",
    "import random"
   ]
  },
  {
   "cell_type": "code",
   "execution_count": 2,
   "metadata": {},
   "outputs": [],
   "source": [
    "def create_dag(max_level=10, max_children=10, max_number_nodes=10, having_childs_prob=2):\n",
    "    q = Queue()\n",
    "    last_node = 0\n",
    "    G = nx.Graph()\n",
    "    G.add_node(0)\n",
    "    q.put((0, 0))\n",
    "\n",
    "    weights = [1/n for n in range(1, max_children+1)]\n",
    "\n",
    "    while not q.empty():\n",
    "        node, level = q.get()\n",
    "\n",
    "        if not level == max_level and last_node <= max_number_nodes:\n",
    "            has_childs = random.randint(1, having_childs_prob)\n",
    "\n",
    "            if node == 0 or has_childs != 1:\n",
    "                \n",
    "                n_childs = random.choices(range(1, max_children + 1))[0]\n",
    "\n",
    "                for c in range(n_childs):\n",
    "                    # Nodes start from 0\n",
    "                    if last_node == max_number_nodes - 1:\n",
    "                        break\n",
    "\n",
    "                    last_node += 1\n",
    "                    G.add_node(last_node)\n",
    "                    G.add_edge(node, last_node)\n",
    "                    q.put((last_node, level + 1))\n",
    "\n",
    "    return G"
   ]
  },
  {
   "cell_type": "code",
   "execution_count": 55,
   "metadata": {},
   "outputs": [],
   "source": [
    "def create_dag_levelist(max_level=10, max_level_nodes=10 , max_number_nodes=10, having_childs_prob=2):\n",
    "    q = Queue()\n",
    "    last_node = 0\n",
    "    last_level = 0\n",
    "    nodes = [[0]]\n",
    "\n",
    "    G = nx.DiGraph()\n",
    "    G.add_node(0)\n",
    "\n",
    "    q.put((last_node, last_level))\n",
    "\n",
    "    while not q.empty():\n",
    "        node, level = q.get()\n",
    "\n",
    "        # Adding nodes to the new level\n",
    "        if last_level == level and last_level < max_level:\n",
    "            last_level += 1\n",
    "            n_new_level_nodes = random.randint(1, max_level_nodes)\n",
    "            new_level_nodes = []\n",
    "\n",
    "            for i in range(0, n_new_level_nodes - 1 ):\n",
    "                if last_node >= max_number_nodes:\n",
    "                    break\n",
    "\n",
    "                last_node += 1\n",
    "                G.add_node(last_node)\n",
    "                q.put((last_node, last_level))\n",
    "                new_level_nodes.append(last_node)\n",
    "            \n",
    "            nodes.append(new_level_nodes)\n",
    "\n",
    "        # Add edges if the current node has node incoming edges\n",
    "        if node != 0 and G.in_degree(node) == 0:\n",
    "            previous_level_nodes = nodes[level-1]\n",
    "            n_parents = random.randint(1, previous_level_nodes.__len__())\n",
    "            parent = random.sample(previous_level_nodes, n_parents)\n",
    "\n",
    "            for p in parent:\n",
    "                G.add_edge(p, node)\n",
    "\n",
    "\n",
    "        # Adding edges for the current node\n",
    "        if level < last_level:\n",
    "            next_level_nodes = nodes[level+1]\n",
    "            has_child = random.randint(1, having_childs_prob)\n",
    "            if node == 0 and (next_level_nodes.__len__() > 0) or (has_child != 1 and next_level_nodes.__len__() > 0):\n",
    "                # weights = [1/n for n in range(1, next_level_nodes.__le__())]\n",
    "                # n_childs = random.choices(1, next_level_nodes.__len__(), weights=weights)[0]\n",
    "                n_childs = random.randint(1, next_level_nodes.__len__())\n",
    "                children = random.sample(next_level_nodes, n_childs)\n",
    "\n",
    "                for child in children:\n",
    "                    G.add_edge(node, child)\n",
    "\n",
    "    return G\n"
   ]
  },
  {
   "cell_type": "code",
   "execution_count": 56,
   "metadata": {},
   "outputs": [],
   "source": [
    "def adj_matrix(g:nx.Graph):\n",
    "    n_nodes = g.number_of_nodes()\n",
    "    adj = np.full((n_nodes, n_nodes), -1)\n",
    "    nodes = g.nodes\n",
    "    \n",
    "    for node in nodes:\n",
    "        edges = g.edges(node)\n",
    "        for u, v  in edges:\n",
    "            adj[u, v] = 0\n",
    "\n",
    "    return adj\n"
   ]
  },
  {
   "cell_type": "code",
   "execution_count": 58,
   "metadata": {},
   "outputs": [
    {
     "data": {
      "text/plain": [
       "(13, 16)"
      ]
     },
     "execution_count": 58,
     "metadata": {},
     "output_type": "execute_result"
    }
   ],
   "source": [
    "# g = create_dag(max_level=5, max_children=5, max_number_nodes=16, having_childs_prob=4)\n",
    "g = create_dag_levelist(max_level=5, max_level_nodes=5, max_number_nodes=25, having_childs_prob=3)\n",
    "g.number_of_nodes(), g.number_of_edges()"
   ]
  },
  {
   "cell_type": "code",
   "execution_count": 59,
   "metadata": {},
   "outputs": [
    {
     "data": {
      "text/plain": [
       "OutEdgeView([(0, 3), (0, 1), (0, 2), (3, 4), (4, 6), (4, 7), (4, 5), (5, 10), (6, 9), (6, 8), (6, 11), (6, 10), (7, 10), (8, 12), (10, 12), (11, 12)])"
      ]
     },
     "execution_count": 59,
     "metadata": {},
     "output_type": "execute_result"
    }
   ],
   "source": [
    "g.edges"
   ]
  },
  {
   "cell_type": "code",
   "execution_count": 60,
   "metadata": {},
   "outputs": [
    {
     "data": {
      "text/plain": [
       "array([[-1,  0,  0,  0, -1, -1, -1, -1, -1, -1, -1, -1, -1],\n",
       "       [-1, -1, -1, -1, -1, -1, -1, -1, -1, -1, -1, -1, -1],\n",
       "       [-1, -1, -1, -1, -1, -1, -1, -1, -1, -1, -1, -1, -1],\n",
       "       [-1, -1, -1, -1,  0, -1, -1, -1, -1, -1, -1, -1, -1],\n",
       "       [-1, -1, -1, -1, -1,  0,  0,  0, -1, -1, -1, -1, -1],\n",
       "       [-1, -1, -1, -1, -1, -1, -1, -1, -1, -1,  0, -1, -1],\n",
       "       [-1, -1, -1, -1, -1, -1, -1, -1,  0,  0,  0,  0, -1],\n",
       "       [-1, -1, -1, -1, -1, -1, -1, -1, -1, -1,  0, -1, -1],\n",
       "       [-1, -1, -1, -1, -1, -1, -1, -1, -1, -1, -1, -1,  0],\n",
       "       [-1, -1, -1, -1, -1, -1, -1, -1, -1, -1, -1, -1, -1],\n",
       "       [-1, -1, -1, -1, -1, -1, -1, -1, -1, -1, -1, -1,  0],\n",
       "       [-1, -1, -1, -1, -1, -1, -1, -1, -1, -1, -1, -1,  0],\n",
       "       [-1, -1, -1, -1, -1, -1, -1, -1, -1, -1, -1, -1, -1]])"
      ]
     },
     "execution_count": 60,
     "metadata": {},
     "output_type": "execute_result"
    }
   ],
   "source": [
    "adj_matrix(g)"
   ]
  },
  {
   "cell_type": "code",
   "execution_count": null,
   "metadata": {},
   "outputs": [],
   "source": []
  },
  {
   "cell_type": "code",
   "execution_count": null,
   "metadata": {},
   "outputs": [],
   "source": []
  },
  {
   "cell_type": "code",
   "execution_count": null,
   "metadata": {},
   "outputs": [],
   "source": []
  },
  {
   "cell_type": "code",
   "execution_count": null,
   "metadata": {},
   "outputs": [],
   "source": []
  },
  {
   "cell_type": "code",
   "execution_count": null,
   "metadata": {},
   "outputs": [],
   "source": []
  },
  {
   "cell_type": "code",
   "execution_count": null,
   "metadata": {},
   "outputs": [],
   "source": []
  }
 ],
 "metadata": {
  "kernelspec": {
   "display_name": "base",
   "language": "python",
   "name": "python3"
  },
  "language_info": {
   "codemirror_mode": {
    "name": "ipython",
    "version": 3
   },
   "file_extension": ".py",
   "mimetype": "text/x-python",
   "name": "python",
   "nbconvert_exporter": "python",
   "pygments_lexer": "ipython3",
   "version": "3.9.12"
  },
  "orig_nbformat": 4
 },
 "nbformat": 4,
 "nbformat_minor": 2
}
